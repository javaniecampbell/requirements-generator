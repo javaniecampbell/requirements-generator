{
 "cells": [
  {
   "cell_type": "markdown",
   "metadata": {},
   "source": [
    "In order to run the usage example, we first have to load the modules in the project directory. [See for more details.](https://stackoverflow.com/questions/15514593/importerror-no-module-named-when-trying-to-run-python-script)\n",
    "\n",
    "Execute the following commands below:"
   ]
  },
  {
   "cell_type": "code",
   "execution_count": 1,
   "metadata": {},
   "outputs": [],
   "source": [
    "import os\n",
    "\n",
    "project_parent_dir = os.path.abspath(os.path.join(os.getcwd(), os.pardir))\n"
   ]
  },
  {
   "cell_type": "code",
   "execution_count": null,
   "metadata": {},
   "outputs": [],
   "source": [
    "project_parent_dir"
   ]
  },
  {
   "cell_type": "code",
   "execution_count": 2,
   "metadata": {},
   "outputs": [],
   "source": [
    "import sys \n",
    "sys.path.append(project_parent_dir)"
   ]
  },
  {
   "cell_type": "markdown",
   "metadata": {},
   "source": [
    "This example simplifies many aspects of a real-world implementation, such as concurrency, event versioning, and snapshotting for performance. In practice, frameworks and libraries are often used to handle the complexity of event sourcing and aggregates, and the event store might be a database designed for event storage."
   ]
  },
  {
   "cell_type": "code",
   "execution_count": null,
   "metadata": {},
   "outputs": [],
   "source": [
    "from domain.event_store import EventStore\n",
    "from event_sourcing_sample.bank_account_aggregate import BankAccount\n",
    "from event_sourcing_sample.helpers import rebuild_aggregate\n",
    "\n",
    "\n",
    "def sample_usage():\n",
    "    \"\"\"\n",
    "    This example simplifies many aspects of a real-world implementation, such as concurrency, event versioning, and snapshotting for performance. In practice, frameworks and libraries are often used to handle the complexity of event sourcing and aggregates, and the event store might be a database designed for event storage.\n",
    "    \"\"\"\n",
    "    event_store = EventStore()\n",
    "\n",
    "    # Create a new bank account\n",
    "    bank_account = BankAccount(id=\"123\")\n",
    "    bank_account.create_account(\"John Doe\")\n",
    "    bank_account.deposit_money(100)\n",
    "\n",
    "    # Persist changes (events) to the event store\n",
    "    event_store.save_events(bank_account.id, bank_account.changes, expected_version=0)\n",
    "\n",
    "    # Print history of events for auditing\n",
    "    events = event_store.get_events_for_aggregate(\"123\")\n",
    "    print(f\"Account History: \\n\")\n",
    "    for event in events:\n",
    "        print(\n",
    "            f\"Event Type: {event.type}, Data: {event.data}, Timestamp: {event.timestamp}\"\n",
    "        )\n",
    "\n",
    "    # Rebuild the bank account's state from events\n",
    "    reconstructed_account = rebuild_aggregate(event_store, \"123\")\n",
    "    print(f\"Reconstructed Account Balance: {reconstructed_account.balance}\")\n",
    "\n",
    "\n",
    "if __name__ == \"__main__\":\n",
    "    sample_usage()"
   ]
  },
  {
   "cell_type": "code",
   "execution_count": 3,
   "metadata": {},
   "outputs": [
    {
     "name": "stdout",
     "output_type": "stream",
     "text": [
      "Account History: \n",
      "\n",
      "Event Type: AccountCreated, Data: {'account_id': '123', 'owner': 'John Doe'}, Timestamp: 2024-03-18 00:26:34.825739\n",
      "Event Type: MoneyDeposited, Data: {'account_id': '123', 'amount': 100}, Timestamp: 2024-03-18 00:26:34.825739\n",
      "Applying event: AccountCreated\n",
      "Applying event: MoneyDeposited\n",
      "Reconstructed Account Balance: 100\n"
     ]
    }
   ],
   "source": [
    "from domain.event_store import EventStore\n",
    "from event_sourcing_sample.bank_account_v2_aggregate import BankAccountV2\n",
    "from event_sourcing_sample.helpers import rebuild_aggregate\n",
    "\n",
    "\n",
    "def sample_usage_v2():\n",
    "    \"\"\"\n",
    "    This example simplifies many aspects of a real-world implementation, such as concurrency, event versioning, and snapshotting for performance. In practice, frameworks and libraries are often used to handle the complexity of event sourcing and aggregates, and the event store might be a database designed for event storage.\n",
    "    \"\"\"\n",
    "    # Initialize the EventStore\n",
    "    event_store = EventStore()\n",
    "    # Create a new bank account id\n",
    "    account_id = \"123\"\n",
    "\n",
    "    # Register a BankAccount aggregate type for a specific aggregate ID\n",
    "    event_store.register_aggregate_type(account_id, BankAccountV2)\n",
    "    # Create a new bank account\n",
    "    bank_account = BankAccountV2(id=account_id)\n",
    "    bank_account.create_account(\"John Doe\")\n",
    "    bank_account.deposit_money(100)\n",
    "\n",
    "    # Persist changes (events) to the event store\n",
    "    event_store.save_events(bank_account.get_id(), bank_account.get_uncommitted_changes(), expected_version=0)\n",
    "\n",
    "    # Print history of events for auditing\n",
    "    events = event_store.get_events_for_aggregate(account_id)\n",
    "    print(f\"Account History: \\n\")\n",
    "    for event in events:\n",
    "        print(\n",
    "            f\"Event Type: {event.type}, Data: {event.data}, Timestamp: {event.timestamp}\"\n",
    "        )\n",
    "\n",
    "    # Rebuild the bank account's state from events\n",
    "    reconstructed_account = rebuild_aggregate(event_store, account_id)\n",
    "    print(f\"Reconstructed Account Balance: {reconstructed_account.balance}\")\n",
    "\n",
    "\n",
    "if __name__ == \"__main__\":\n",
    "    sample_usage_v2()"
   ]
  }
 ],
 "metadata": {
  "kernelspec": {
   "display_name": "venv",
   "language": "python",
   "name": "python3"
  },
  "language_info": {
   "codemirror_mode": {
    "name": "ipython",
    "version": 3
   },
   "file_extension": ".py",
   "mimetype": "text/x-python",
   "name": "python",
   "nbconvert_exporter": "python",
   "pygments_lexer": "ipython3",
   "version": "3.11.2"
  }
 },
 "nbformat": 4,
 "nbformat_minor": 2
}
