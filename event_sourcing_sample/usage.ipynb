{
 "cells": [
  {
   "cell_type": "markdown",
   "metadata": {},
   "source": [
    "In order to run the usage example, we first have to load the modules in the project directory. [See for more details.](https://stackoverflow.com/questions/15514593/importerror-no-module-named-when-trying-to-run-python-script)\n",
    "\n",
    "Execute the following commands below:"
   ]
  },
  {
   "cell_type": "code",
   "execution_count": 2,
   "metadata": {},
   "outputs": [],
   "source": [
    "import os\n",
    "\n",
    "project_parent_dir = os.path.abspath(os.path.join(os.getcwd(), os.pardir))\n"
   ]
  },
  {
   "cell_type": "code",
   "execution_count": null,
   "metadata": {},
   "outputs": [],
   "source": [
    "project_parent_dir"
   ]
  },
  {
   "cell_type": "code",
   "execution_count": 3,
   "metadata": {},
   "outputs": [],
   "source": [
    "import sys \n",
    "sys.path.append(project_parent_dir)"
   ]
  },
  {
   "cell_type": "markdown",
   "metadata": {},
   "source": [
    "This example simplifies many aspects of a real-world implementation, such as concurrency, event versioning, and snapshotting for performance. In practice, frameworks and libraries are often used to handle the complexity of event sourcing and aggregates, and the event store might be a database designed for event storage."
   ]
  },
  {
   "cell_type": "code",
   "execution_count": null,
   "metadata": {},
   "outputs": [],
   "source": [
    "from domain.event_store import EventStore\n",
    "from event_sourcing_sample.bank_account_aggregate import BankAccount\n",
    "from event_sourcing_sample.helpers import rebuild_aggregate\n",
    "\n",
    "\n",
    "def sample_usage():\n",
    "    \"\"\"\n",
    "    This example simplifies many aspects of a real-world implementation, such as concurrency, event versioning, and snapshotting for performance. In practice, frameworks and libraries are often used to handle the complexity of event sourcing and aggregates, and the event store might be a database designed for event storage.\n",
    "    \"\"\"\n",
    "    event_store = EventStore()\n",
    "\n",
    "    # Create a new bank account\n",
    "    bank_account = BankAccount(id=\"123\")\n",
    "    bank_account.create_account(\"John Doe\")\n",
    "    bank_account.deposit_money(100)\n",
    "\n",
    "    # Persist changes (events) to the event store\n",
    "    event_store.save_events(bank_account.id, bank_account.changes, expected_version=0)\n",
    "\n",
    "    # Print history of events for auditing\n",
    "    events = event_store.get_events_for_aggregate(\"123\")\n",
    "    print(f\"Account History: \\n\")\n",
    "    for event in events:\n",
    "        print(\n",
    "            f\"Event Type: {event.type}, Data: {event.data}, Timestamp: {event.timestamp}\"\n",
    "        )\n",
    "\n",
    "    # Rebuild the bank account's state from events\n",
    "    reconstructed_account = rebuild_aggregate(event_store, \"123\")\n",
    "    print(f\"Reconstructed Account Balance: {reconstructed_account.balance}\")\n",
    "\n",
    "\n",
    "if __name__ == \"__main__\":\n",
    "    sample_usage()"
   ]
  },
  {
   "cell_type": "code",
   "execution_count": 5,
   "metadata": {},
   "outputs": [
    {
     "ename": "AttributeError",
     "evalue": "'BankAccountV2' object has no attribute 'changes'",
     "output_type": "error",
     "traceback": [
      "\u001b[1;31m---------------------------------------------------------------------------\u001b[0m",
      "\u001b[1;31mAttributeError\u001b[0m                            Traceback (most recent call last)",
      "Cell \u001b[1;32mIn[5], line 39\u001b[0m\n\u001b[0;32m     35\u001b[0m     \u001b[38;5;28mprint\u001b[39m(\u001b[38;5;124mf\u001b[39m\u001b[38;5;124m\"\u001b[39m\u001b[38;5;124mReconstructed Account Balance: \u001b[39m\u001b[38;5;132;01m{\u001b[39;00mreconstructed_account\u001b[38;5;241m.\u001b[39mbalance\u001b[38;5;132;01m}\u001b[39;00m\u001b[38;5;124m\"\u001b[39m)\n\u001b[0;32m     38\u001b[0m \u001b[38;5;28;01mif\u001b[39;00m \u001b[38;5;18m__name__\u001b[39m \u001b[38;5;241m==\u001b[39m \u001b[38;5;124m\"\u001b[39m\u001b[38;5;124m__main__\u001b[39m\u001b[38;5;124m\"\u001b[39m:\n\u001b[1;32m---> 39\u001b[0m     \u001b[43msample_usage_v2\u001b[49m\u001b[43m(\u001b[49m\u001b[43m)\u001b[49m\n",
      "Cell \u001b[1;32mIn[5], line 23\u001b[0m, in \u001b[0;36msample_usage_v2\u001b[1;34m()\u001b[0m\n\u001b[0;32m     20\u001b[0m bank_account\u001b[38;5;241m.\u001b[39mdeposit_money(\u001b[38;5;241m100\u001b[39m)\n\u001b[0;32m     22\u001b[0m \u001b[38;5;66;03m# Persist changes (events) to the event store\u001b[39;00m\n\u001b[1;32m---> 23\u001b[0m event_store\u001b[38;5;241m.\u001b[39msave_events(bank_account\u001b[38;5;241m.\u001b[39mget_id(), \u001b[43mbank_account\u001b[49m\u001b[38;5;241;43m.\u001b[39;49m\u001b[43mchanges\u001b[49m, expected_version\u001b[38;5;241m=\u001b[39m\u001b[38;5;241m0\u001b[39m)\n\u001b[0;32m     25\u001b[0m \u001b[38;5;66;03m# Print history of events for auditing\u001b[39;00m\n\u001b[0;32m     26\u001b[0m events \u001b[38;5;241m=\u001b[39m event_store\u001b[38;5;241m.\u001b[39mget_events_for_aggregate(account_id)\n",
      "\u001b[1;31mAttributeError\u001b[0m: 'BankAccountV2' object has no attribute 'changes'"
     ]
    }
   ],
   "source": [
    "from domain.event_store import EventStore\n",
    "from event_sourcing_sample.bank_account_aggregate import BankAccountV2\n",
    "from event_sourcing_sample.helpers import rebuild_aggregate\n",
    "\n",
    "\n",
    "def sample_usage_v2():\n",
    "    \"\"\"\n",
    "    This example simplifies many aspects of a real-world implementation, such as concurrency, event versioning, and snapshotting for performance. In practice, frameworks and libraries are often used to handle the complexity of event sourcing and aggregates, and the event store might be a database designed for event storage.\n",
    "    \"\"\"\n",
    "    # Initialize the EventStore\n",
    "    event_store = EventStore()\n",
    "    # Create a new bank account id\n",
    "    account_id = \"123\"\n",
    "\n",
    "    # Register a BankAccount aggregate type for a specific aggregate ID\n",
    "    event_store.register_aggregate_type(account_id, BankAccountV2)\n",
    "    # Create a new bank account\n",
    "    bank_account = BankAccountV2(id=account_id)\n",
    "    bank_account.create_account(\"John Doe\")\n",
    "    bank_account.deposit_money(100)\n",
    "\n",
    "    # Persist changes (events) to the event store\n",
    "    event_store.save_events(bank_account.get_id(), bank_account.changes, expected_version=0)\n",
    "\n",
    "    # Print history of events for auditing\n",
    "    events = event_store.get_events_for_aggregate(account_id)\n",
    "    print(f\"Account History: \\n\")\n",
    "    for event in events:\n",
    "        print(\n",
    "            f\"Event Type: {event.type}, Data: {event.data}, Timestamp: {event.timestamp}\"\n",
    "        )\n",
    "\n",
    "    # Rebuild the bank account's state from events\n",
    "    reconstructed_account = rebuild_aggregate(event_store, account_id)\n",
    "    print(f\"Reconstructed Account Balance: {reconstructed_account.balance}\")\n",
    "\n",
    "\n",
    "if __name__ == \"__main__\":\n",
    "    sample_usage_v2()"
   ]
  }
 ],
 "metadata": {
  "kernelspec": {
   "display_name": "venv",
   "language": "python",
   "name": "python3"
  },
  "language_info": {
   "codemirror_mode": {
    "name": "ipython",
    "version": 3
   },
   "file_extension": ".py",
   "mimetype": "text/x-python",
   "name": "python",
   "nbconvert_exporter": "python",
   "pygments_lexer": "ipython3",
   "version": "3.11.2"
  }
 },
 "nbformat": 4,
 "nbformat_minor": 2
}
