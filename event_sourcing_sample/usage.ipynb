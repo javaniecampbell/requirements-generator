{
 "cells": [
  {
   "cell_type": "code",
   "execution_count": 5,
   "metadata": {},
   "outputs": [],
   "source": [
    "import os\n",
    "\n",
    "project_parent_dir = os.path.abspath(os.path.join(os.getcwd(), os.pardir))\n"
   ]
  },
  {
   "cell_type": "code",
   "execution_count": 6,
   "metadata": {},
   "outputs": [
    {
     "data": {
      "text/plain": [
       "'c:\\\\Users\\\\javan\\\\workspace\\\\DDoW-Projects\\\\requirements-generator'"
      ]
     },
     "execution_count": 6,
     "metadata": {},
     "output_type": "execute_result"
    }
   ],
   "source": [
    "project_parent_dir"
   ]
  },
  {
   "cell_type": "code",
   "execution_count": 2,
   "metadata": {},
   "outputs": [],
   "source": [
    "import sys \n",
    "sys.path.append(project_parent_dir)"
   ]
  },
  {
   "cell_type": "code",
   "execution_count": 7,
   "metadata": {},
   "outputs": [
    {
     "name": "stdout",
     "output_type": "stream",
     "text": [
      "Account History: \n",
      "\n",
      "Event Type: AccountCreated, Data: {'account_id': '123', 'owner': 'John Doe'}, Timestamp: 2024-03-17 08:35:46.444063\n",
      "Event Type: MoneyDeposited, Data: {'account_id': '123', 'amount': 100}, Timestamp: 2024-03-17 08:35:46.444063\n",
      "Applying event: AccountCreated\n",
      "Applying event: MoneyDeposited\n",
      "Reconstructed Account Balance: 100\n"
     ]
    }
   ],
   "source": [
    "from domain.event_store import EventStore\n",
    "from event_sourcing_sample.bank_account_aggregate import BankAccount\n",
    "from event_sourcing_sample.helpers import rebuild_aggregate\n",
    "\n",
    "\n",
    "def sample_usage():\n",
    "    \"\"\"\n",
    "    This example simplifies many aspects of a real-world implementation, such as concurrency, event versioning, and snapshotting for performance. In practice, frameworks and libraries are often used to handle the complexity of event sourcing and aggregates, and the event store might be a database designed for event storage.\n",
    "    \"\"\"\n",
    "    event_store = EventStore()\n",
    "\n",
    "    # Create a new bank account\n",
    "    bank_account = BankAccount(id=\"123\")\n",
    "    bank_account.create_account(\"John Doe\")\n",
    "    bank_account.deposit_money(100)\n",
    "\n",
    "    # Persist changes (events) to the event store\n",
    "    event_store.save_events(bank_account.id, bank_account.changes, expected_version=0)\n",
    "\n",
    "    # Print history of events for auditing\n",
    "    events = event_store.get_events_for_aggregate(\"123\")\n",
    "    print(f\"Account History: \\n\")\n",
    "    for event in events:\n",
    "        print(\n",
    "            f\"Event Type: {event.type}, Data: {event.data}, Timestamp: {event.timestamp}\"\n",
    "        )\n",
    "\n",
    "    # Rebuild the bank account's state from events\n",
    "    reconstructed_account = rebuild_aggregate(event_store, \"123\")\n",
    "    print(f\"Reconstructed Account Balance: {reconstructed_account.balance}\")\n",
    "\n",
    "\n",
    "if __name__ == \"__main__\":\n",
    "    sample_usage()"
   ]
  }
 ],
 "metadata": {
  "kernelspec": {
   "display_name": "venv",
   "language": "python",
   "name": "python3"
  },
  "language_info": {
   "codemirror_mode": {
    "name": "ipython",
    "version": 3
   },
   "file_extension": ".py",
   "mimetype": "text/x-python",
   "name": "python",
   "nbconvert_exporter": "python",
   "pygments_lexer": "ipython3",
   "version": "3.11.2"
  }
 },
 "nbformat": 4,
 "nbformat_minor": 2
}
